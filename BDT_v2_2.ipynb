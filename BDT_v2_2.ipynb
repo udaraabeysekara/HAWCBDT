{
 "cells": [
  {
   "cell_type": "code",
   "execution_count": 3,
   "metadata": {
    "collapsed": true
   },
   "outputs": [],
   "source": [
    "%matplotlib inline\n",
    "\n",
    "import numpy as np\n",
    "import random\n",
    "import matplotlib.pyplot as plt\n",
    "\n",
    "from sklearn.ensemble import AdaBoostClassifier\n",
    "from sklearn.tree import DecisionTreeClassifier\n",
    "from sklearn.datasets import make_gaussian_quantiles\n",
    "from scipy.sparse import lil_matrix as sparse\n",
    "from datetime import datetime"
   ]
  },
  {
   "cell_type": "code",
   "execution_count": 1,
   "metadata": {
    "collapsed": false
   },
   "outputs": [
    {
     "ename": "NameError",
     "evalue": "name 'sparse' is not defined",
     "output_type": "error",
     "traceback": [
      "\u001b[0;31m---------------------------------------------------------------------------\u001b[0m",
      "\u001b[0;31mNameError\u001b[0m                                 Traceback (most recent call last)",
      "\u001b[0;32m<ipython-input-1-2484558b6159>\u001b[0m in \u001b[0;36m<module>\u001b[0;34m()\u001b[0m\n\u001b[1;32m      4\u001b[0m \u001b[0mn_pmt\u001b[0m \u001b[0;34m=\u001b[0m \u001b[0;36m25\u001b[0m\u001b[0;34m\u001b[0m\u001b[0m\n\u001b[1;32m      5\u001b[0m \u001b[0;34m\u001b[0m\u001b[0m\n\u001b[0;32m----> 6\u001b[0;31m \u001b[0mX1\u001b[0m \u001b[0;34m=\u001b[0m \u001b[0msparse\u001b[0m\u001b[0;34m(\u001b[0m\u001b[0;34m(\u001b[0m\u001b[0mn_points\u001b[0m\u001b[0;34m,\u001b[0m \u001b[0;36m2\u001b[0m\u001b[0;34m)\u001b[0m\u001b[0;34m)\u001b[0m   \u001b[0;31m# n_sample rows and two columns for x and y coordinates X1[[x],[y]]\u001b[0m\u001b[0;34m\u001b[0m\u001b[0m\n\u001b[0m\u001b[1;32m      7\u001b[0m \u001b[0mX2\u001b[0m \u001b[0;34m=\u001b[0m \u001b[0msparse\u001b[0m\u001b[0;34m(\u001b[0m\u001b[0;34m(\u001b[0m\u001b[0mn_points\u001b[0m\u001b[0;34m,\u001b[0m \u001b[0;36m2\u001b[0m\u001b[0;34m)\u001b[0m\u001b[0;34m)\u001b[0m\u001b[0;34m\u001b[0m\u001b[0m\n\u001b[1;32m      8\u001b[0m \u001b[0mY1\u001b[0m \u001b[0;34m=\u001b[0m \u001b[0mnp\u001b[0m\u001b[0;34m.\u001b[0m\u001b[0mzeros\u001b[0m\u001b[0;34m(\u001b[0m\u001b[0mn_points\u001b[0m\u001b[0;34m)\u001b[0m        \u001b[0;31m# class of object, not coordinate\u001b[0m\u001b[0;34m\u001b[0m\u001b[0m\n",
      "\u001b[0;31mNameError\u001b[0m: name 'sparse' is not defined"
     ]
    }
   ],
   "source": [
    "# Construct dataset\n",
    "\n",
    "n_points = 300\n",
    "n_pmt = 25\n",
    "\n",
    "X1 = sparse((n_points, 2))   # n_sample rows and two columns for x and y coordinates X1[[x],[y]]\n",
    "X2 = sparse((n_points, 2))\n",
    "Y1 = np.zeros(n_points)        # class of object, not coordinate\n",
    "Y2 = np.zeros(n_points)\n",
    "\n",
    "for i in range(n_points):\n",
    "    x1, _class1 = make_gaussian_quantiles(mean = (0,0), cov = 1,\n",
    "                                         n_samples = n_pmt, n_features = 2,\n",
    "                                         n_classes = 1, random_state = 0) \n",
    "    \n",
    "    # This is slightly confusing, make_gaussian_quantiles defines the variable x1 as an n x 2 matrix of x, y coordinates\n",
    "    # Now, I'm simply separating that matrix into two arrays: one array of x coordinates, one array of y coordinates\n",
    "    \n",
    "    x1_coord_array = []\n",
    "    y1_coord_array = []\n",
    "    \n",
    "    for j in range(n_pmt):\n",
    "        x1_coord_array.append(x1[:, 0])\n",
    "        y1_coord_array.append(x1[:, 1])\n",
    "    \n",
    "    # The good part! Now, I'm telling the program to put the array of x coordinates into ONE index of the X1 matrix above\n",
    "    # I was having trouble with doing this, but all I had to do was define the elements themselves of X1 to be np.ndarrays\n",
    "    \n",
    "    X1[:, 0][i] = x1_coord_array\n",
    "    X1[:, 1][i] = y1_coord_array\n",
    "    Y1[i] = _class1\n",
    "    \n",
    "    x2, _class2 = make_gaussian_quantiles(mean = (6,6), cov = 1,\n",
    "                                         n_samples = n_pmt, n_features = 2,\n",
    "                                         n_classes = 1, random_state = 0)\n",
    "    \n",
    "    # Change the class for these data points from 0 to 1\n",
    "\n",
    "    for j in range(n_pmt):\n",
    "        _class2[j] += 1\n",
    "        \n",
    "    x2_coord_array = x2[:, 0]\n",
    "    y2_coord_array = x2[:, 1]\n",
    "    \n",
    "    X2[:, 0][i] = x2_coord_array\n",
    "    X2[:, 1][i] = y2_coord_array\n",
    "    Y2[i] = _class2\n",
    "    \n",
    "X = np.concatenate((X1, X2))\n",
    "y = np.concatenate((Y1, Y2))"
   ]
  },
  {
   "cell_type": "code",
   "execution_count": null,
   "metadata": {
    "collapsed": true
   },
   "outputs": [],
   "source": []
  }
 ],
 "metadata": {
  "kernelspec": {
   "display_name": "Python 2",
   "language": "python",
   "name": "python2"
  },
  "language_info": {
   "codemirror_mode": {
    "name": "ipython",
    "version": 2
   },
   "file_extension": ".py",
   "mimetype": "text/x-python",
   "name": "python",
   "nbconvert_exporter": "python",
   "pygments_lexer": "ipython2",
   "version": "2.7.11"
  }
 },
 "nbformat": 4,
 "nbformat_minor": 0
}
