{
 "cells": [
  {
   "cell_type": "code",
   "execution_count": 5,
   "metadata": {
    "collapsed": true
   },
   "outputs": [],
   "source": [
    "%matplotlib inline\n",
    "\n",
    "import numpy as np\n",
    "import random\n",
    "import matplotlib.pyplot as plt\n",
    "\n",
    "from sklearn.datasets import make_gaussian_quantiles\n",
    "from datetime import datetime\n",
    "from scipy.sparse import csr_matrix\n",
    "from sklearn import datasets, svm, metrics"
   ]
  },
  {
   "cell_type": "code",
   "execution_count": 7,
   "metadata": {
    "collapsed": false
   },
   "outputs": [
    {
     "name": "stdout",
     "output_type": "stream",
     "text": [
      "[ 4.   3.8  4.9  6.   4.4  3.2  3.3  5.3  6.8  6.4  4.2  4.9  3.6  3.7  6.3\n",
      "  1.9  4.5  4.7  4.7  4.6  3.6  5.4  3.6  3.9  4.6  4.8  5.7  4.5  5.2  6.\n",
      "  6.4  3.3  4.1  6.4  3.6  2.9  4.5  5.   4.1  2.9  3.4  4.2  5.7  5.5  5.5\n",
      "  4.7  4.1  5.1  4.2  2.8  6.4  5.4  3.2  3.5  6.   4.9  3.6  5.6  4.   4.6]\n",
      "[  9.1   8.8  10.7  12.6   9.8   7.8   8.   11.3  13.9  13.3   9.5  10.6\n",
      "   8.5   8.6  13.1   5.6  10.1  10.3  10.3  10.2   8.4  11.6   8.5   8.9\n",
      "  10.1  10.5  12.1  10.   11.3  12.7  13.3   8.    9.3  13.2   8.5   7.2\n",
      "  10.   10.8   9.3   7.2   8.1   9.4  12.   11.7  11.6  10.4   9.3  11.1\n",
      "   9.5   7.   13.2  11.5   7.8   8.2  12.6  10.8   8.4  12.    9.1  10.2]\n"
     ]
    }
   ],
   "source": [
    "n_events = 2\n",
    "n_pmt = 60\n",
    "\n",
    "gamma, ray_1 = make_gaussian_quantiles(mean = (4.5,4.5), cov = 1,\n",
    "                                         n_samples = n_pmt, n_features = 2,\n",
    "                                         n_classes = 1, random_state = 0) \n",
    "\n",
    "cosmic, ray_2 = make_gaussian_quantiles(mean = (10, 10), cov = 3,\n",
    "                                         n_samples = n_pmt, n_features = 2,\n",
    "                                         n_classes = 1, random_state = 0) \n",
    "    \n",
    "# This is slightly confusing, make_gaussian_quantiles defines the variable x as an n x 2 matrix of x, y coordinates\n",
    "# Now, I'm simply separating that matrix into two arrays: one array of x coordinates, one array of y coordinates\n",
    "\n",
    "gammax_array = gamma[:, 0]\n",
    "gammay_array = gamma[:, 1]\n",
    "\n",
    "cosmicx_array = cosmic[:, 0]\n",
    "cosmicy_array = cosmic[:, 1]\n",
    "\n",
    "detection = np.arange(0, n_pmt, 1)\n",
    "\n",
    "# At some point, ask Udara on what grid system HAWC is built.  Hopefully, the origin is not in the center. \n",
    "# I think I can define it myself... \n",
    "\n",
    "for j in range(n_pmt):\n",
    "    detection[j] = 1\n",
    "    gammax_array[j] = \"{0:.1f}\".format(gammax_array[j])\n",
    "    gammay_array[j] = \"{0:.1f}\".format(gammay_array[j])\n",
    "    cosmicx_array[j] = \"{0:.1f}\".format(cosmicx_array[j])\n",
    "    cosmicy_array[j] = \"{0:.1f}\".format(cosmicy_array[j])\n",
    "\n",
    "print(gammax_array)\n",
    "print(cosmicx_array)\n",
    "\n",
    "pixels = np.arange(0, 17, 0.1)\n",
    "gammax_indeces = gammax_array*10\n",
    "gammay_indeces = gammay_array*10\n",
    "cosmicx_indeces = cosmicx_array*10\n",
    "cosmicy_indeces = cosmicy_array*10\n",
    "\n",
    "gammax_min, gammax_max = gammax_indeces.min() - 10, gammax_indeces.max() + 10\n",
    "gammay_min, gammay_max = gammay_indeces.min() - 10, gammay_indeces.max() + 10\n",
    "cosmicx_min, cosmicx_max = cosmicx_indeces.min() - 10, cosmicx_indeces.max() + 10\n",
    "cosmicy_min, cosmicy_max = cosmicy_indeces.min() - 10, cosmicy_indeces.max() + 10"
   ]
  },
  {
   "cell_type": "code",
   "execution_count": 8,
   "metadata": {
    "collapsed": false
   },
   "outputs": [
    {
     "name": "stdout",
     "output_type": "stream",
     "text": [
      "[[0 0 0 ..., 0 0 0]\n",
      " [0 0 0 ..., 0 0 0]\n",
      " [0 0 0 ..., 0 0 0]\n",
      " ..., \n",
      " [0 0 0 ..., 0 0 0]\n",
      " [0 0 0 ..., 0 0 0]\n",
      " [0 0 0 ..., 0 0 0]]\n",
      "[[0 0 0 ..., 0 0 0]\n",
      " [0 0 0 ..., 0 0 0]\n",
      " [0 0 0 ..., 0 0 0]\n",
      " ..., \n",
      " [0 0 0 ..., 0 0 0]\n",
      " [0 0 0 ..., 0 0 0]\n",
      " [0 0 0 ..., 0 0 0]]\n"
     ]
    }
   ],
   "source": [
    "# Come back to this, these arrays should probably be one and the same for the purpose of training the algorithm\n",
    "gamma_image = csr_matrix((detection, (gammax_indeces, gammay_indeces)), shape = (len(pixels), len(pixels))).toarray() #These parentheses are important\n",
    "cosmic_image = csr_matrix((detection, (cosmicx_indeces, cosmicy_indeces)), shape = (len(pixels), len(pixels))).toarray()\n",
    "\n",
    "# Classification array for the images. 0 = gamma ray event, 1 = cosmic ray event.  This will have to be updated soon as well.\n",
    "targets = np.arange(0, 2, 1)\n",
    "\n",
    "print(gamma_image)\n",
    "print(cosmic_image)\n",
    "\n"
   ]
  },
  {
   "cell_type": "code",
   "execution_count": 9,
   "metadata": {
    "collapsed": false
   },
   "outputs": [
    {
     "name": "stdout",
     "output_type": "stream",
     "text": [
      "[(array([0, 0, 0, 0, 0, 0, 0, 0, 0, 0, 0, 0, 0, 0, 0, 0, 0, 0, 0, 0, 0, 0, 0,\n",
      "       0, 0, 0, 0, 0, 0, 0, 0, 0, 0, 0, 0, 0, 0, 0, 0, 0, 0, 0, 0, 0, 0, 0,\n",
      "       0, 0, 0, 0, 0, 0, 0, 0, 0, 0, 0, 0, 0, 0, 0, 0, 0, 0, 0, 0, 0, 0, 0,\n",
      "       0, 0, 0, 0, 0, 0, 0, 0, 0, 0, 0, 0, 0, 0, 0, 0, 0, 0, 0, 0, 0, 0, 0,\n",
      "       0, 0, 0, 0, 0, 0, 0, 0, 0, 0, 0, 0, 0, 0, 0, 0, 0, 0, 0, 0, 0, 0, 0,\n",
      "       0, 0, 0, 0, 0, 0, 0, 0, 0, 0, 0, 0, 0, 0, 0, 0, 0, 0, 0, 0, 0, 0, 0,\n",
      "       0, 0, 0, 0, 0, 0, 0, 0, 0, 0, 0, 0, 0, 0, 0, 0, 0, 0, 0, 0, 0, 0, 0,\n",
      "       0, 0, 0, 0, 0, 0, 0, 0, 0]), 0), (array([0, 0, 0, 0, 0, 0, 0, 0, 0, 0, 0, 0, 0, 0, 0, 0, 0, 0, 0, 0, 0, 0, 0,\n",
      "       0, 0, 0, 0, 0, 0, 0, 0, 0, 0, 0, 0, 0, 0, 0, 0, 0, 0, 0, 0, 0, 0, 0,\n",
      "       0, 0, 0, 0, 0, 0, 0, 0, 0, 0, 0, 0, 0, 0, 0, 0, 0, 0, 0, 0, 0, 0, 0,\n",
      "       0, 0, 0, 0, 0, 0, 0, 0, 0, 0, 0, 0, 0, 0, 0, 0, 0, 0, 0, 0, 0, 0, 0,\n",
      "       0, 0, 0, 0, 0, 0, 0, 0, 0, 0, 0, 0, 0, 0, 0, 0, 0, 0, 0, 0, 0, 0, 0,\n",
      "       0, 0, 0, 0, 0, 0, 0, 0, 0, 0, 0, 0, 0, 0, 0, 0, 0, 0, 0, 0, 0, 0, 0,\n",
      "       0, 0, 0, 0, 0, 0, 0, 0, 0, 0, 0, 0, 0, 0, 0, 0, 0, 0, 0, 0, 0, 0, 0,\n",
      "       0, 0, 0, 0, 0, 0, 0, 0, 0]), 1)]\n"
     ]
    }
   ],
   "source": [
    "images = np.concatenate((gamma_image, cosmic_image))\n",
    "\n",
    "images_targets = list(zip(images, targets))\n",
    "\n",
    "print(images_targets)"
   ]
  },
  {
   "cell_type": "code",
   "execution_count": 10,
   "metadata": {
    "collapsed": false
   },
   "outputs": [
    {
     "data": {
      "image/png": "[encoded data removed]",
      "text/plain": [
       "<matplotlib.figure.Figure at 0x2ac2bcc1eed0>"
      ]
     },
     "metadata": {},
     "output_type": "display_data"
    }
   ],
   "source": [
    "plt.figure(figsize = (8, 8))\n",
    "plt.imshow(gamma_image, cmap = plt.cm.gray, interpolation = 'nearest')\n",
    "plt.xlim(gammax_min, gammax_max)\n",
    "plt.ylim(gammay_max, gammay_min)\n",
    "plt.title('Training')\n",
    "plt.show()"
   ]
  },
  {
   "cell_type": "code",
   "execution_count": 11,
   "metadata": {
    "collapsed": false
   },
   "outputs": [
    {
     "data": {
      "image/png": "[encoded data removed]",
      "text/plain": [
       "<matplotlib.figure.Figure at 0x2ac2edc27350>"
      ]
     },
     "metadata": {},
     "output_type": "display_data"
    }
   ],
   "source": [
    "plt.figure(figsize = (8, 8))\n",
    "plt.imshow(cosmic_image, cmap = plt.cm.gray, interpolation = 'nearest')\n",
    "plt.xlim(cosmicx_min, cosmicx_max)\n",
    "plt.ylim(cosmicy_max, cosmicy_min)\n",
    "plt.title('Training')\n",
    "plt.show()"
   ]
  },
  {
   "cell_type": "code",
   "execution_count": 12,
   "metadata": {
    "collapsed": false
   },
   "outputs": [
    {
     "name": "stdout",
     "output_type": "stream",
     "text": [
      "(2, 28900)\n",
      "<type 'numpy.ndarray'>\n"
     ]
    },
    {
     "data": {
      "text/plain": [
       "SVC(C=1.0, cache_size=200, class_weight=None, coef0=0.0,\n",
       "  decision_function_shape=None, degree=3, gamma=0.001, kernel='rbf',\n",
       "  max_iter=-1, probability=False, random_state=None, shrinking=True,\n",
       "  tol=0.001, verbose=False)"
      ]
     },
     "execution_count": 12,
     "metadata": {},
     "output_type": "execute_result"
    }
   ],
   "source": [
    "# Reshape the image to go through classifier\n",
    "data = images.reshape(n_events, -1)\n",
    "\n",
    "print(data.shape)\n",
    "\n",
    "# Classifier\n",
    "clf = svm.SVC(gamma = 0.001)\n",
    "\n",
    "# Train the algorithm\n",
    "clf.fit(data, targets)"
   ]
  },
  {
   "cell_type": "code",
   "execution_count": 53,
   "metadata": {
    "collapsed": false
   },
   "outputs": [
    {
     "name": "stdout",
     "output_type": "stream",
     "text": [
      "Classification report for classifier SVC(C=1.0, cache_size=200, class_weight=None, coef0=0.0,\n",
      "  decision_function_shape=None, degree=3, gamma=0.001, kernel='rbf',\n",
      "  max_iter=-1, probability=False, random_state=None, shrinking=True,\n",
      "  tol=0.001, verbose=False):\n",
      "             precision    recall  f1-score   support\n",
      "\n",
      "          0       1.00      1.00      1.00         1\n",
      "          1       1.00      1.00      1.00         1\n",
      "\n",
      "avg / total       1.00      1.00      1.00         2\n",
      "\n",
      "\n",
      "Confusion matrix:\n",
      "[[1 0]\n",
      " [0 1]]\n"
     ]
    }
   ],
   "source": [
    "expected = targets\n",
    "predicted = clf.predict(data)\n",
    "\n",
    "# expected = digits.target[n_samples // 2:]\n",
    "# predicted = classifier.predict(data[n_samples // 2:])\n",
    "\n",
    "print(\"Classification report for classifier %s:\\n%s\\n\"\n",
    "      % (clf, metrics.classification_report(expected, predicted)))\n",
    "print(\"Confusion matrix:\\n%s\" % metrics.confusion_matrix(expected, predicted))"
   ]
  },
  {
   "cell_type": "code",
   "execution_count": null,
   "metadata": {
    "collapsed": true
   },
   "outputs": [],
   "source": []
  }
 ],
 "metadata": {
  "kernelspec": {
   "display_name": "Python 2",
   "language": "python",
   "name": "python2"
  },
  "language_info": {
   "codemirror_mode": {
    "name": "ipython",
    "version": 2
   },
   "file_extension": ".py",
   "mimetype": "text/x-python",
   "name": "python",
   "nbconvert_exporter": "python",
   "pygments_lexer": "ipython2",
   "version": "2.7.11"
  }
 },
 "nbformat": 4,
 "nbformat_minor": 0
}
