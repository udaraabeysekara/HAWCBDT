{
 "cells": [
  {
   "cell_type": "code",
   "execution_count": 11,
   "metadata": {
    "collapsed": true
   },
   "outputs": [],
   "source": [
    "%matplotlib inline\n",
    "\n",
    "import numpy as np\n",
    "import random\n",
    "import matplotlib.pyplot as plt\n",
    "\n",
    "from sklearn.datasets import make_gaussian_quantiles\n",
    "from datetime import datetime\n",
    "from scipy.sparse import csr_matrix\n",
    "from sklearn import datasets, svm, metrics\n",
    "from sklearn.ensemble import AdaBoostClassifier\n",
    "from sklearn.tree import DecisionTreeClassifier"
   ]
  },
  {
   "cell_type": "code",
   "execution_count": 12,
   "metadata": {
    "collapsed": false
   },
   "outputs": [
    {
     "name": "stdout",
     "output_type": "stream",
     "text": [
      "(600, 72, 72)\n"
     ]
    }
   ],
   "source": [
    "n_events = 300 # Each event actually produces one gamma ray shower and one cosmic ray shower as per the for loop below,\n",
    "n_pmt = 60     # meaning the total number of events will be twice the input value n_events\n",
    "\n",
    "targets = np.arange(0, 2, 1)\n",
    "increment_targets = np.arange(0, 2, 1)\n",
    "all_images = np.zeros((n_events * 2, 72, 72))\n",
    "print(all_images.shape)\n",
    "\n",
    "for i in range(n_events):\n",
    "    gamma, ray_1 = make_gaussian_quantiles(mean = (10,10), cov = 1.2,\n",
    "                                             n_samples = n_pmt, n_features = 2,\n",
    "                                             n_classes = 1, random_state = i) \n",
    "\n",
    "    cosmic, ray_2 = make_gaussian_quantiles(mean = (9, 9), cov = 1.4,\n",
    "                                             n_samples = n_pmt, n_features = 2,\n",
    "                                             n_classes = 1, random_state = i + 2)\n",
    "    \n",
    "    for j in enumerate(gamma):\n",
    "        event_i.append(list(zip(gamma[:, 0][j], gamma[:, 1][j])))\n",
    "\n",
    "    # This is slightly confusing, make_gaussian_quantiles defines the variable x as an n x 2 matrix of x, y coordinates\n",
    "    # Now, I'm simply separating that matrix into two arrays: one array of x coordinates, one array of y coordinates\n",
    "\n",
    "    gammax_array = gamma[:, 0]\n",
    "    gammay_array = gamma[:, 1]\n",
    "\n",
    "    cosmicx_array = cosmic[:, 0]\n",
    "    cosmicy_array = cosmic[:, 1]\n",
    "\n",
    "    detection = np.arange(0, n_pmt, 1)\n",
    "\n",
    "    # At some point, ask Udara on what grid system HAWC is built.  Hopefully, the origin is not in the center. \n",
    "    # I think I can define it myself... \n",
    "\n",
    "    for j in range(n_pmt):\n",
    "        detection[j] = 1\n",
    "        gammax_array[j] = \"{0:1f}\".format(gammax_array[j])\n",
    "        gammay_array[j] = \"{0:1f}\".format(gammay_array[j])\n",
    "        cosmicx_array[j] = \"{0:1f}\".format(cosmicx_array[j])\n",
    "        cosmicy_array[j] = \"{0:1f}\".format(cosmicy_array[j])\n",
    "\n",
    "    pixels = np.arange(0, 72, 1)\n",
    "    gammax_indeces = gammax_array * 4\n",
    "    gammay_indeces = gammay_array * 4\n",
    "    cosmicx_indeces = cosmicx_array * 4\n",
    "    cosmicy_indeces = cosmicy_array * 4\n",
    "    \n",
    "    all_indeces = [gammax_indeces, gammay_indeces, cosmicx_indeces, cosmicy_indeces]\n",
    "    \n",
    "    for k in range(n_pmt):\n",
    "        for l, idx in zip(range(4), all_indeces):\n",
    "            if idx[k] > 71:\n",
    "                idx[k] = 71.\n",
    "            elif idx[k] < 0.:\n",
    "                idx[k] = 0.\n",
    "        for m, idx2 in zip(range(n_pmt), all_indeces):\n",
    "            if idx2[k] == idx2[m]:\n",
    "                idx2[k] += 1\n",
    "\n",
    "    gamma_both = list(zip(gammax_indeces, gammay_indeces))\n",
    "    cosmic_both = list(zip(cosmicx_indeces, cosmicy_indeces))\n",
    "    \n",
    "    gammax_min, gammax_max = gammax_indeces.min() - 4, gammax_indeces.max() + 4\n",
    "    gammay_min, gammay_max = gammay_indeces.min() - 4, gammay_indeces.max() + 4\n",
    "    cosmicx_min, cosmicx_max = cosmicx_indeces.min() - 4, cosmicx_indeces.max() + 4\n",
    "    cosmicy_min, cosmicy_max = cosmicy_indeces.min() - 4, cosmicy_indeces.max() + 4\n",
    "    \n",
    "    # Come back to this, these arrays should probably be one and the same for the purpose of training the algorithm\n",
    "    gamma_image = csr_matrix((detection, (gammax_indeces, gammay_indeces)), shape = (len(pixels), len(pixels))).toarray() #These parentheses are important\n",
    "    cosmic_image = csr_matrix((detection, (cosmicx_indeces, cosmicy_indeces)), shape = (len(pixels), len(pixels))).toarray()\n",
    "    \n",
    "#     print(gamma_image)\n",
    "\n",
    "    all_images[2 * i] = gamma_image\n",
    "    all_images[(2 * i) + 1] = cosmic_image\n",
    "    \n",
    "    if i == 0: \n",
    "        i = 0\n",
    "    else:\n",
    "        targets = np.concatenate((targets, increment_targets))\n",
    "        \n",
    "images_targets = list(zip(all_images, targets))"
   ]
  },
  {
   "cell_type": "code",
   "execution_count": 17,
   "metadata": {
    "collapsed": false
   },
   "outputs": [
    {
     "data": {
      "image/png": "[encoded data removed]",
      "text/plain": [
       "<matplotlib.figure.Figure at 0x2affd8089510>"
      ]
     },
     "metadata": {},
     "output_type": "display_data"
    },
    {
     "data": {
      "image/png": "[encoded data removed]",
      "text/plain": [
       "<matplotlib.figure.Figure at 0x2affd68999d0>"
      ]
     },
     "metadata": {},
     "output_type": "display_data"
    }
   ],
   "source": [
    "# Just to make sure everything seems to be working correctly\n",
    "\n",
    "plt.figure(figsize = (6, 6))\n",
    "plt.scatter(gammax_array, gammay_array, color = 'r')\n",
    "plt.autoscale(enable = True, axis = 'both')\n",
    "plt.xlabel('x')\n",
    "plt.ylabel('y')\n",
    "plt.title('Target: 0' %target)\n",
    "plt.show()\n",
    "\n",
    "plt.figure(figsize = (6, 6))\n",
    "plt.scatter(cosmicx_array, cosmicy_array, color = 'b')\n",
    "plt.autoscale(enable = True, axis = 'both')\n",
    "plt.xlabel('x')\n",
    "plt.ylabel('y')\n",
    "plt.title('Target: 1' %target)\n",
    "plt.show()   "
   ]
  },
  {
   "cell_type": "code",
   "execution_count": 4,
   "metadata": {
    "collapsed": false
   },
   "outputs": [
    {
     "name": "stdout",
     "output_type": "stream",
     "text": [
      "(300, 5184)\n"
     ]
    },
    {
     "data": {
      "text/plain": [
       "AdaBoostClassifier(algorithm='SAMME',\n",
       "          base_estimator=DecisionTreeClassifier(class_weight=None, criterion='gini', max_depth=3,\n",
       "            max_features=None, max_leaf_nodes=None,\n",
       "            min_impurity_split=1e-07, min_samples_leaf=1,\n",
       "            min_samples_split=2, min_weight_fraction_leaf=0.0,\n",
       "            presort=False, random_state=None, splitter='best'),\n",
       "          learning_rate=1.0, n_estimators=500, random_state=None)"
      ]
     },
     "execution_count": 4,
     "metadata": {},
     "output_type": "execute_result"
    }
   ],
   "source": [
    "# Reshape the image to go through classifier\n",
    "data = all_images.reshape((n_events * 2, -1))\n",
    "\n",
    "print(data[:n_events].shape)\n",
    "\n",
    "# Classifier\n",
    "bdt = AdaBoostClassifier(DecisionTreeClassifier(max_depth = 3),\n",
    "                        algorithm  = \"SAMME\",\n",
    "                        n_estimators = 500)\n",
    "\n",
    "# Train the algorithm\n",
    "bdt.fit(data[:n_events], targets[:n_events])"
   ]
  },
  {
   "cell_type": "code",
   "execution_count": 5,
   "metadata": {
    "collapsed": false
   },
   "outputs": [
    {
     "data": {
      "image/png": "[encoded data removed]",
      "text/plain": [
       "<matplotlib.figure.Figure at 0x2affd6754950>"
      ]
     },
     "metadata": {},
     "output_type": "display_data"
    }
   ],
   "source": [
    "predicted = bdt.predict(data[n_events:])\n",
    "\n",
    "# Plot the two-class decision scores\n",
    "twoclass_output = bdt.decision_function(data[n_events:])\n",
    "plot_range = (twoclass_output.min(), twoclass_output.max())\n",
    "class_names = \"Gamma\", \"Cosmic\"\n",
    "plot_colors = \"rb\"\n",
    "plt.figure(figsize = (6, 6))\n",
    "\n",
    "for o, n, c in zip(range(2), class_names, plot_colors):\n",
    "    plt.hist(twoclass_output[targets[:n_events] == o],\n",
    "             bins=10,\n",
    "             range=plot_range,\n",
    "             facecolor=c,\n",
    "             label='%s' % n, # This is a useful tool\n",
    "             alpha=.5,\n",
    "             edgecolor='k')\n",
    "    \n",
    "plt.legend(loc='upper right')\n",
    "plt.ylabel('Samples')\n",
    "plt.xlabel('Score')\n",
    "plt.title('Decision Scores')\n",
    "\n",
    "plt.show()"
   ]
  },
  {
   "cell_type": "code",
   "execution_count": 6,
   "metadata": {
    "collapsed": false
   },
   "outputs": [
    {
     "name": "stdout",
     "output_type": "stream",
     "text": [
      "[[0 1 0 1 0 1 0 1 0 1]\n",
      " [0 1 0 1 0 1 0 1 0 1]\n",
      " [0 1 0 1 0 1 0 1 0 1]\n",
      " [0 1 0 1 0 1 0 1 0 1]\n",
      " [0 1 0 1 0 1 0 1 0 1]\n",
      " [0 1 0 1 0 1 0 1 0 1]\n",
      " [0 1 0 1 0 1 0 1 0 1]\n",
      " [0 1 0 1 0 1 0 1 0 1]\n",
      " [0 1 0 1 0 1 0 1 0 1]\n",
      " [0 1 0 1 0 1 0 1 0 1]\n",
      " [0 1 0 1 0 1 0 1 0 1]\n",
      " [0 1 0 1 0 1 0 1 0 1]\n",
      " [0 1 0 1 0 1 0 1 0 1]\n",
      " [0 1 0 1 0 1 0 1 0 1]\n",
      " [0 1 0 1 0 1 0 1 0 1]\n",
      " [0 1 0 1 0 1 0 1 0 1]\n",
      " [0 1 0 1 0 1 0 1 0 1]\n",
      " [0 1 0 1 0 1 0 1 0 1]\n",
      " [0 1 0 1 0 1 0 1 0 1]\n",
      " [0 1 0 1 0 1 0 1 0 1]\n",
      " [0 1 0 1 0 1 0 1 0 1]\n",
      " [0 1 0 1 0 1 0 1 0 1]\n",
      " [0 1 0 1 0 1 0 1 0 1]\n",
      " [0 1 0 1 0 1 0 1 0 1]\n",
      " [0 1 0 1 0 1 0 1 0 1]\n",
      " [0 1 0 1 0 1 0 1 0 1]\n",
      " [0 1 0 1 0 1 0 1 0 1]\n",
      " [0 1 0 1 0 1 0 1 0 1]\n",
      " [0 1 0 1 0 1 0 1 0 1]\n",
      " [0 1 0 1 0 1 0 1 0 1]]\n",
      "300\n",
      "0\n"
     ]
    }
   ],
   "source": [
    "#print(twoclass_output)\n",
    "print(targets[n_events:].reshape(30, -1))\n",
    "\n",
    "good_score = 0\n",
    "bad_score  = 0\n",
    "\n",
    "for p, score, target in zip(range(n_events), twoclass_output, targets[n_events:]):\n",
    "    if score < 0 and target == 0:\n",
    "        good_score += 1\n",
    "    elif score > 0 and target == 1: \n",
    "        good_score += 1\n",
    "    else:\n",
    "        bad_score += 1\n",
    "        \n",
    "print(good_score)\n",
    "print(bad_score)"
   ]
  },
  {
   "cell_type": "code",
   "execution_count": null,
   "metadata": {
    "collapsed": true
   },
   "outputs": [],
   "source": []
  }
 ],
 "metadata": {
  "kernelspec": {
   "display_name": "Python 2",
   "language": "python",
   "name": "python2"
  },
  "language_info": {
   "codemirror_mode": {
    "name": "ipython",
    "version": 2
   },
   "file_extension": ".py",
   "mimetype": "text/x-python",
   "name": "python",
   "nbconvert_exporter": "python",
   "pygments_lexer": "ipython2",
   "version": "2.7.11"
  }
 },
 "nbformat": 4,
 "nbformat_minor": 0
}
