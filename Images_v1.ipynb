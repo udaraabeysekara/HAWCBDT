{
 "cells": [
  {
   "cell_type": "code",
   "execution_count": 231,
   "metadata": {
    "collapsed": false
   },
   "outputs": [],
   "source": [
    "%matplotlib inline\n",
    "\n",
    "import numpy as np\n",
    "import random\n",
    "import matplotlib.pyplot as plt\n",
    "\n",
    "from sklearn.datasets import make_gaussian_quantiles\n",
    "from datetime import datetime\n",
    "from scipy.sparse import csr_matrix\n",
    "from sklearn import datasets, svm, metrics"
   ]
  },
  {
   "cell_type": "code",
   "execution_count": 232,
   "metadata": {
    "collapsed": false
   },
   "outputs": [
    {
     "name": "stdout",
     "output_type": "stream",
     "text": [
      "[  8.5   8.3   9.4  10.5   8.9   7.7   7.8   9.8  11.3  10.9   8.7   9.4\n",
      "   8.1   8.2  10.8   6.4   9.    9.2   9.2   9.1   8.1   9.9   8.1   8.4\n",
      "   9.1   9.3  10.2   9.    9.7  10.5  10.9   7.8   8.6  10.9   8.1   7.4\n",
      "   9.    9.5   8.6   7.4   7.9   8.7  10.2  10.   10.    9.2   8.6   9.6\n",
      "   8.7   7.3  10.9   9.9   7.7   8.   10.5   9.4   8.1  10.1   8.5   9.1]\n",
      "[  7.8   8.6   8.3   8.8   9.4   9.8   9.9   9.1   7.5   7.7   9.8   9.7\n",
      "   7.    7.3   9.4   9.7   8.8   9.4   8.6   9.4   9.4   8.8  10.9   8.6\n",
      "   9.3   8.1  10.2   9.4   9.1  10.5  10.5  10.9  10.2   8.    8.4   9.5\n",
      "  10.8   7.5   8.7   8.8  10.1   9.2   8.8  11.2   8.8  10.    8.3   9.9\n",
      "   9.1  11.    9.9   8.3  10.    7.6  10.9   9.3   9.1   7.8   8.6  10.5]\n",
      "[1 1 1 1 1 1 1 1 1 1 1 1 1 1 1 1 1 1 1 1 1 1 1 1 1 1 1 1 1 1 1 1 1 1 1 1 1\n",
      " 1 1 1 1 1 1 1 1 1 1 1 1 1 1 1 1 1 1 1 1 1 1 1]\n",
      "[  85.   83.   94.  105.   89.   77.   78.   98.  113.  109.   87.   94.\n",
      "   81.   82.  108.   64.   90.   92.   92.   91.   81.   99.   81.   84.\n",
      "   91.   93.  102.   90.   97.  105.  109.   78.   86.  109.   81.   74.\n",
      "   90.   95.   86.   74.   79.   87.  102.  100.  100.   92.   86.   96.\n",
      "   87.   73.  109.   99.   77.   80.  105.   94.   81.  101.   85.   91.]\n"
     ]
    }
   ],
   "source": [
    "n_events = 1\n",
    "n_pmt = 60\n",
    "\n",
    "x, _class = make_gaussian_quantiles(mean = (9,9), cov = 1,\n",
    "                                         n_samples = n_pmt, n_features = 2,\n",
    "                                         n_classes = 1, random_state = 0) \n",
    "    \n",
    "# This is slightly confusing, make_gaussian_quantiles defines the variable x as an n x 2 matrix of x, y coordinates\n",
    "# Now, I'm simply separating that matrix into two arrays: one array of x coordinates, one array of y coordinates\n",
    "\n",
    "x_coord_array = x[:, 0]\n",
    "y_coord_array = x[:, 1]\n",
    "\n",
    "is_point = np.arange(0, len(x_coord_array), 1)\n",
    "\n",
    "# At some point, ask Udara on what grid system HAWC is built.  Hopefully, the origin is not in the center. \n",
    "# I think I can define it myself... \n",
    "\n",
    "for i in range(n_pmt):\n",
    "    is_point[i] = 1\n",
    "    x_coord_array[i] = \"{0:.1f}\".format(x_coord_array[i])\n",
    "    y_coord_array[i] = \"{0:.1f}\".format(y_coord_array[i])\n",
    "\n",
    "print(x_coord_array)\n",
    "print(y_coord_array)\n",
    "print(is_point)\n",
    "\n",
    "pixels = np.arange(0, 17, 0.1)\n",
    "x_indeces = x_coord_array*10\n",
    "y_indeces = y_coord_array*10\n",
    "\n",
    "print(x_indeces)\n",
    "\n",
    "x_min, x_max = x_indeces.min() - 10, x_indeces.max() + 10\n",
    "y_min, y_max = y_indeces.min() - 10, y_indeces.max() + 10"
   ]
  },
  {
   "cell_type": "code",
   "execution_count": 233,
   "metadata": {
    "collapsed": false,
    "scrolled": false
   },
   "outputs": [
    {
     "name": "stdout",
     "output_type": "stream",
     "text": [
      "[[0 0 0 ..., 0 0 0]\n",
      " [0 0 0 ..., 0 0 0]\n",
      " [0 0 0 ..., 0 0 0]\n",
      " ..., \n",
      " [0 0 0 ..., 0 0 0]\n",
      " [0 0 0 ..., 0 0 0]\n",
      " [0 0 0 ..., 0 0 0]]\n"
     ]
    }
   ],
   "source": [
    "image = csr_matrix((is_point, (x_indeces, y_indeces)), shape = (len(pixels), len(pixels))).toarray() #These parentheses are important\n",
    "target = [0]\n",
    "print(image)"
   ]
  },
  {
   "cell_type": "code",
   "execution_count": 234,
   "metadata": {
    "collapsed": false
   },
   "outputs": [],
   "source": [
    "# is_point = np.zeros(len(pixels))\n",
    "\n",
    "# for j in range(n_pmt):\n",
    "    \n",
    "image_target = list((image, target))\n"
   ]
  },
  {
   "cell_type": "code",
   "execution_count": 235,
   "metadata": {
    "collapsed": false
   },
   "outputs": [
    {
     "data": {
      "text/plain": [
       "<matplotlib.text.Text at 0x2b8cc7f35250>"
      ]
     },
     "execution_count": 235,
     "metadata": {},
     "output_type": "execute_result"
    },
    {
     "data": {
      "image/png": "[encoded data removed]",
      "text/plain": [
       "<matplotlib.figure.Figure at 0x2b8cc7bdfad0>"
      ]
     },
     "metadata": {},
     "output_type": "display_data"
    }
   ],
   "source": [
    "plt.figure(figsize = (5, 5))\n",
    "plt.imshow(image, cmap = plt.cm.gray_r, interpolation = 'nearest')\n",
    "plt.xlim(x_min, x_max)\n",
    "plt.ylim(y_max, y_min)\n",
    "plt.title('Training')"
   ]
  },
  {
   "cell_type": "code",
   "execution_count": null,
   "metadata": {
    "collapsed": true
   },
   "outputs": [],
   "source": []
  }
 ],
 "metadata": {
  "kernelspec": {
   "display_name": "Python 2",
   "language": "python",
   "name": "python2"
  },
  "language_info": {
   "codemirror_mode": {
    "name": "ipython",
    "version": 2
   },
   "file_extension": ".py",
   "mimetype": "text/x-python",
   "name": "python",
   "nbconvert_exporter": "python",
   "pygments_lexer": "ipython2",
   "version": "2.7.11"
  }
 },
 "nbformat": 4,
 "nbformat_minor": 0
}
