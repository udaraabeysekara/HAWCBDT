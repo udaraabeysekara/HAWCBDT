{
 "cells": [
  {
   "cell_type": "code",
   "execution_count": 8,
   "metadata": {
    "collapsed": false
   },
   "outputs": [],
   "source": [
    "import ROOT\n",
    "import numpy as np\n",
    "\n",
    "from ROOT import TCanvas, TGraph, TFile\n",
    "from array import array\n",
    "\n",
    "tb = ROOT.TBrowser()"
   ]
  },
  {
   "cell_type": "code",
   "execution_count": 9,
   "metadata": {
    "collapsed": false
   },
   "outputs": [
    {
     "name": "stdout",
     "output_type": "stream",
     "text": [
      "TFile**\t\ttree.root\t\n",
      " TFile*\t\ttree.root\t\n",
      "  KEY: TTree\tname_of_tree;1\ttree title\n"
     ]
    }
   ],
   "source": [
    "f = ROOT.TFile('tree.root')\n",
    "f.ls()"
   ]
  },
  {
   "cell_type": "code",
   "execution_count": 10,
   "metadata": {
    "collapsed": false
   },
   "outputs": [
    {
     "name": "stdout",
     "output_type": "stream",
     "text": [
      "******************************************************************************\n",
      "*Tree    :name_of_tree: tree title                                             *\n",
      "*Entries :   100000 : Total =         1606253 bytes  File  Size =    1266789 *\n",
      "*        :          : Tree compression factor =   1.27                       *\n",
      "******************************************************************************\n",
      "*Br    0 :Normal    : Normal/D                                               *\n",
      "*Entries :   100000 : Total  Size=     802932 bytes  File Size  =     720411 *\n",
      "*Baskets :       26 : Basket Size=      32000 bytes  Compression=   1.11     *\n",
      "*............................................................................*\n",
      "*Br    1 :Uniform   : Uniform/D                                              *\n",
      "*Entries :   100000 : Total  Size=     802962 bytes  File Size  =     545467 *\n",
      "*Baskets :       26 : Basket Size=      32000 bytes  Compression=   1.47     *\n",
      "*............................................................................*\n"
     ]
    }
   ],
   "source": [
    "t = f.Get(\"name_of_tree\")\n",
    "t.Print()"
   ]
  },
  {
   "cell_type": "code",
   "execution_count": 11,
   "metadata": {
    "collapsed": true
   },
   "outputs": [],
   "source": [
    "f.Close()"
   ]
  },
  {
   "cell_type": "code",
   "execution_count": null,
   "metadata": {
    "collapsed": true
   },
   "outputs": [],
   "source": []
  }
 ],
 "metadata": {
  "kernelspec": {
   "display_name": "Python 2",
   "language": "python",
   "name": "python2"
  },
  "language_info": {
   "codemirror_mode": {
    "name": "ipython",
    "version": 2
   },
   "file_extension": ".py",
   "mimetype": "text/x-python",
   "name": "python",
   "nbconvert_exporter": "python",
   "pygments_lexer": "ipython2",
   "version": "2.7.11"
  }
 },
 "nbformat": 4,
 "nbformat_minor": 0
}
